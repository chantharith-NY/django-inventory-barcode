{
 "cells": [
  {
   "cell_type": "code",
   "execution_count": 3,
   "metadata": {},
   "outputs": [
    {
     "name": "stdout",
     "output_type": "stream",
     "text": [
      "Collecting pyzbar\n",
      "  Using cached pyzbar-0.1.9-py2.py3-none-any.whl.metadata (10 kB)\n",
      "Using cached pyzbar-0.1.9-py2.py3-none-any.whl (32 kB)\n",
      "Installing collected packages: pyzbar\n",
      "Successfully installed pyzbar-0.1.9\n",
      "Note: you may need to restart the kernel to use updated packages.\n"
     ]
    }
   ],
   "source": [
    "pip install pyzbar"
   ]
  },
  {
   "cell_type": "code",
   "execution_count": 4,
   "metadata": {},
   "outputs": [
    {
     "name": "stdout",
     "output_type": "stream",
     "text": [
      "ZBar shared library loaded successfully!\n"
     ]
    }
   ],
   "source": [
    "from pyzbar.pyzbar import ZBarSymbol\n",
    "\n",
    "print(\"ZBar shared library loaded successfully!\")\n"
   ]
  },
  {
   "cell_type": "code",
   "execution_count": 5,
   "metadata": {},
   "outputs": [],
   "source": [
    "from pyzbar.pyzbar import decode"
   ]
  },
  {
   "cell_type": "code",
   "execution_count": 8,
   "metadata": {},
   "outputs": [
    {
     "name": "stdout",
     "output_type": "stream",
     "text": [
      "Collecting barcode\n",
      "  Downloading barcode-1.0.4.tar.gz (4.6 kB)\n",
      "  Preparing metadata (setup.py) ... \u001b[?25ldone\n",
      "\u001b[?25hCollecting python-Levenshtein>=0.12.0 (from barcode)\n",
      "  Downloading python_Levenshtein-0.26.1-py3-none-any.whl.metadata (3.7 kB)\n",
      "Collecting Levenshtein==0.26.1 (from python-Levenshtein>=0.12.0->barcode)\n",
      "  Downloading levenshtein-0.26.1-cp312-cp312-macosx_10_13_x86_64.whl.metadata (3.2 kB)\n",
      "Collecting rapidfuzz<4.0.0,>=3.9.0 (from Levenshtein==0.26.1->python-Levenshtein>=0.12.0->barcode)\n",
      "  Downloading rapidfuzz-3.11.0-cp312-cp312-macosx_10_13_x86_64.whl.metadata (11 kB)\n",
      "Downloading python_Levenshtein-0.26.1-py3-none-any.whl (9.4 kB)\n",
      "Downloading levenshtein-0.26.1-cp312-cp312-macosx_10_13_x86_64.whl (176 kB)\n",
      "\u001b[2K   \u001b[90m━━━━━━━━━━━━━━━━━━━━━━━━━━━━━━━━━━━━━━━━\u001b[0m \u001b[32m176.4/176.4 kB\u001b[0m \u001b[31m1.4 MB/s\u001b[0m eta \u001b[36m0:00:00\u001b[0ma \u001b[36m0:00:01\u001b[0mm\n",
      "\u001b[?25hDownloading rapidfuzz-3.11.0-cp312-cp312-macosx_10_13_x86_64.whl (1.9 MB)\n",
      "\u001b[2K   \u001b[90m━━━━━━━━━━━━━━━━━━━━━━━━━━━━━━━━━━━━━━━━\u001b[0m \u001b[32m1.9/1.9 MB\u001b[0m \u001b[31m7.3 MB/s\u001b[0m eta \u001b[36m0:00:00\u001b[0m00:01\u001b[0m00:01\u001b[0m\n",
      "\u001b[?25hBuilding wheels for collected packages: barcode\n",
      "  Building wheel for barcode (setup.py) ... \u001b[?25ldone\n",
      "\u001b[?25h  Created wheel for barcode: filename=barcode-1.0.4-py3-none-any.whl size=5433 sha256=2c9a3e702780890d54935986d2b0296bd040cccbc22539593cf989212b122996\n",
      "  Stored in directory: /Users/nychanthrith/Library/Caches/pip/wheels/a0/1a/d1/787c71126cbf639a71564bed0f12b734147967647fa0076556\n",
      "Successfully built barcode\n",
      "Installing collected packages: rapidfuzz, Levenshtein, python-Levenshtein, barcode\n",
      "Successfully installed Levenshtein-0.26.1 barcode-1.0.4 python-Levenshtein-0.26.1 rapidfuzz-3.11.0\n",
      "Note: you may need to restart the kernel to use updated packages.\n"
     ]
    }
   ],
   "source": [
    "pip install barcode"
   ]
  },
  {
   "cell_type": "code",
   "execution_count": 9,
   "metadata": {},
   "outputs": [
    {
     "ename": "ModuleNotFoundError",
     "evalue": "No module named 'barcode.writer'",
     "output_type": "error",
     "traceback": [
      "\u001b[0;31m---------------------------------------------------------------------------\u001b[0m",
      "\u001b[0;31mModuleNotFoundError\u001b[0m                       Traceback (most recent call last)",
      "Cell \u001b[0;32mIn[9], line 2\u001b[0m\n\u001b[1;32m      1\u001b[0m \u001b[38;5;28;01mimport\u001b[39;00m \u001b[38;5;21;01mbarcode\u001b[39;00m\n\u001b[0;32m----> 2\u001b[0m \u001b[38;5;28;01mfrom\u001b[39;00m \u001b[38;5;21;01mbarcode\u001b[39;00m\u001b[38;5;21;01m.\u001b[39;00m\u001b[38;5;21;01mwriter\u001b[39;00m \u001b[38;5;28;01mimport\u001b[39;00m ImageWriter\n\u001b[1;32m      4\u001b[0m \u001b[38;5;28;01mdef\u001b[39;00m \u001b[38;5;21mgenerate_barcode\u001b[39m(data, barcode_format\u001b[38;5;241m=\u001b[39m\u001b[38;5;124m\"\u001b[39m\u001b[38;5;124mcode128\u001b[39m\u001b[38;5;124m\"\u001b[39m, output_file\u001b[38;5;241m=\u001b[39m\u001b[38;5;124m\"\u001b[39m\u001b[38;5;124mbarcode\u001b[39m\u001b[38;5;124m\"\u001b[39m):\n\u001b[1;32m      5\u001b[0m \u001b[38;5;250m    \u001b[39m\u001b[38;5;124;03m\"\"\"\u001b[39;00m\n\u001b[1;32m      6\u001b[0m \u001b[38;5;124;03m    Generate a barcode and save it as an image.\u001b[39;00m\n\u001b[1;32m      7\u001b[0m \u001b[38;5;124;03m    \u001b[39;00m\n\u001b[0;32m   (...)\u001b[0m\n\u001b[1;32m     11\u001b[0m \u001b[38;5;124;03m        output_file (str): The output file name without extension.\u001b[39;00m\n\u001b[1;32m     12\u001b[0m \u001b[38;5;124;03m    \"\"\"\u001b[39;00m\n",
      "\u001b[0;31mModuleNotFoundError\u001b[0m: No module named 'barcode.writer'"
     ]
    }
   ],
   "source": [
    "import barcode\n",
    "from barcode.writer import ImageWriter\n",
    "\n",
    "def generate_barcode(data, barcode_format=\"code128\", output_file=\"barcode\"):\n",
    "    \"\"\"\n",
    "    Generate a barcode and save it as an image.\n",
    "    \n",
    "    Parameters:\n",
    "        data (str): The data to encode in the barcode.\n",
    "        barcode_format (str): The type of barcode to generate. Default is \"code128\".\n",
    "        output_file (str): The output file name without extension.\n",
    "    \"\"\"\n",
    "    try:\n",
    "        # Get the barcode class\n",
    "        BarcodeClass = barcode.get_barcode_class(barcode_format)\n",
    "        barcode_instance = BarcodeClass(data, writer=ImageWriter())\n",
    "        \n",
    "        # Save the barcode as an image\n",
    "        filename = barcode_instance.save(output_file)\n",
    "        print(f\"Barcode saved as {filename}\")\n",
    "    except Exception as e:\n",
    "        print(f\"Error: {e}\")\n",
    "\n",
    "if __name__ == \"__main__\":\n",
    "    print(\"Choose the barcode format (default: code128):\")\n",
    "    print(\"Options: ean8, ean13, upc, isbn10, isbn13, code39, code128, pzn, itf, gs1\")\n",
    "    barcode_format = input(\"Enter the barcode format: \").strip().lower() or \"code128\"\n",
    "    \n",
    "    data = input(\"Enter the data to encode: \")\n",
    "    output_file = input(\"Enter the output file name (without extension): \").strip() or \"barcode\"\n",
    "    \n",
    "    generate_barcode(data, barcode_format, output_file)\n"
   ]
  },
  {
   "cell_type": "code",
   "execution_count": 1,
   "metadata": {},
   "outputs": [
    {
     "ename": "ModuleNotFoundError",
     "evalue": "No module named 'cv2'",
     "output_type": "error",
     "traceback": [
      "\u001b[0;31m---------------------------------------------------------------------------\u001b[0m",
      "\u001b[0;31mModuleNotFoundError\u001b[0m                       Traceback (most recent call last)",
      "Cell \u001b[0;32mIn[1], line 1\u001b[0m\n\u001b[0;32m----> 1\u001b[0m \u001b[38;5;28;01mimport\u001b[39;00m \u001b[38;5;21;01mcv2\u001b[39;00m\n\u001b[1;32m      2\u001b[0m \u001b[38;5;28;01mfrom\u001b[39;00m \u001b[38;5;21;01mpyzbar\u001b[39;00m\u001b[38;5;21;01m.\u001b[39;00m\u001b[38;5;21;01mpyzbar\u001b[39;00m \u001b[38;5;28;01mimport\u001b[39;00m decode\n\u001b[1;32m      4\u001b[0m \u001b[38;5;28;01mdef\u001b[39;00m \u001b[38;5;21mscan_barcode_from_image\u001b[39m(image_path):\n",
      "\u001b[0;31mModuleNotFoundError\u001b[0m: No module named 'cv2'"
     ]
    }
   ],
   "source": [
    "import cv2\n",
    "from pyzbar.pyzbar import decode\n",
    "\n",
    "def scan_barcode_from_image(image_path):\n",
    "    \"\"\"Scan barcode from a provided image.\"\"\"\n",
    "    image = cv2.imread(image_path)\n",
    "    if image is None:\n",
    "        print(\"Error: Could not load the image.\")\n",
    "        return\n",
    "\n",
    "    barcodes = decode(image)\n",
    "    if not barcodes:\n",
    "        print(\"No barcodes found.\")\n",
    "        return\n",
    "\n",
    "    for barcode in barcodes:\n",
    "        # Decode barcode data\n",
    "        barcode_data = barcode.data.decode('utf-8')\n",
    "        barcode_type = barcode.type\n",
    "        print(f\"Detected {barcode_type} barcode: {barcode_data}\")\n",
    "\n",
    "def scan_barcode_from_camera():\n",
    "    \"\"\"Scan barcode from a webcam feed.\"\"\"\n",
    "    cap = cv2.VideoCapture(0)  # Open the default webcam (ID=0)\n",
    "    print(\"Press 'q' to exit the camera feed.\")\n",
    "    \n",
    "    while True:\n",
    "        ret, frame = cap.read()\n",
    "        if not ret:\n",
    "            print(\"Error: Could not access the webcam.\")\n",
    "            break\n",
    "\n",
    "        barcodes = decode(frame)\n",
    "        for barcode in barcodes:\n",
    "            # Draw rectangle around the detected barcode\n",
    "            (x, y, w, h) = barcode.rect\n",
    "            cv2.rectangle(frame, (x, y), (x + w, y + h), (0, 255, 0), 2)\n",
    "\n",
    "            # Display barcode data\n",
    "            barcode_data = barcode.data.decode('utf-8')\n",
    "            barcode_type = barcode.type\n",
    "            text = f\"{barcode_type}: {barcode_data}\"\n",
    "            cv2.putText(frame, text, (x, y - 10), cv2.FONT_HERSHEY_SIMPLEX, 0.5, (0, 255, 0), 2)\n",
    "            print(f\"Detected {barcode_type} barcode: {barcode_data}\")\n",
    "\n",
    "        # Show the video feed\n",
    "        cv2.imshow(\"Barcode Scanner\", frame)\n",
    "\n",
    "        # Press 'q' to quit\n",
    "        if cv2.waitKey(1) & 0xFF == ord('q'):\n",
    "            break\n",
    "\n",
    "    cap.release()\n",
    "    cv2.destroyAllWindows()\n",
    "\n",
    "if __name__ == \"__main__\":\n",
    "    print(\"Choose an option:\")\n",
    "    print(\"1. Scan barcode from an image\")\n",
    "    print(\"2. Scan barcode from webcam feed\")\n",
    "    choice = input(\"Enter your choice (1/2): \")\n",
    "\n",
    "    if choice == \"1\":\n",
    "        image_path = input(\"Enter the image path: \")\n",
    "        scan_barcode_from_image(image_path)\n",
    "    elif choice == \"2\":\n",
    "        scan_barcode_from_camera()\n",
    "    else:\n",
    "        print(\"Invalid choice. Please restart the script.\")\n"
   ]
  },
  {
   "cell_type": "code",
   "execution_count": null,
   "metadata": {},
   "outputs": [],
   "source": []
  }
 ],
 "metadata": {
  "kernelspec": {
   "display_name": "base",
   "language": "python",
   "name": "python3"
  },
  "language_info": {
   "codemirror_mode": {
    "name": "ipython",
    "version": 3
   },
   "file_extension": ".py",
   "mimetype": "text/x-python",
   "name": "python",
   "nbconvert_exporter": "python",
   "pygments_lexer": "ipython3",
   "version": "3.12.4"
  }
 },
 "nbformat": 4,
 "nbformat_minor": 2
}
